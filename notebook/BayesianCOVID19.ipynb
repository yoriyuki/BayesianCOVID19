{
 "cells": [
  {
   "cell_type": "code",
   "execution_count": 1,
   "metadata": {},
   "outputs": [],
   "source": [
    "import pystan\n",
    "import scipy\n",
    "import matplotlib.pyplot as plt\n",
    "import seaborn as sns\n",
    "import numpy as np\n",
    "import pandas as pd\n",
    "import arviz as az\n",
    "import pickle"
   ]
  },
  {
   "cell_type": "code",
   "execution_count": 2,
   "metadata": {},
   "outputs": [],
   "source": [
    "#### Preprocecing ###"
   ]
  },
  {
   "cell_type": "code",
   "execution_count": 3,
   "metadata": {},
   "outputs": [],
   "source": [
    "jh_dir = \"../../COVID-19\""
   ]
  },
  {
   "cell_type": "code",
   "execution_count": 4,
   "metadata": {},
   "outputs": [],
   "source": [
    "Confirmed = pd.read_csv(jh_dir + \"/csse_covid_19_data/csse_covid_19_time_series/time_series_covid19_confirmed_global.csv\")"
   ]
  },
  {
   "cell_type": "code",
   "execution_count": 5,
   "metadata": {},
   "outputs": [],
   "source": [
    "df = Confirmed.groupby(\"Country/Region\").sum()\n",
    "df = df.drop([\"Lat\", \"Long\"], 1)\n",
    "df = df.T\n",
    "df = df.set_index(pd.to_datetime(df.index))\n",
    "confirmed = df\n",
    "confirmed = confirmed.cummax()"
   ]
  },
  {
   "cell_type": "code",
   "execution_count": 6,
   "metadata": {},
   "outputs": [],
   "source": [
    "df = pd.read_csv(jh_dir + \"/csse_covid_19_data/csse_covid_19_time_series/time_series_covid19_recovered_global.csv\")\n",
    "df = df.groupby(\"Country/Region\").sum()\n",
    "df = df.drop([\"Lat\", \"Long\"], 1)\n",
    "df = df.T\n",
    "df = df.set_index(pd.to_datetime(df.index))\n",
    "recovered = df.cummax()"
   ]
  },
  {
   "cell_type": "code",
   "execution_count": 7,
   "metadata": {},
   "outputs": [],
   "source": [
    "df = pd.read_csv(jh_dir + \"/csse_covid_19_data/csse_covid_19_time_series/time_series_covid19_deaths_global.csv\")\n",
    "df = df.groupby(\"Country/Region\").sum()\n",
    "df = df.drop([\"Lat\", \"Long\"], 1)\n",
    "df = df.T\n",
    "df = df.set_index(pd.to_datetime(df.index))\n",
    "death = df.cummax()"
   ]
  },
  {
   "cell_type": "code",
   "execution_count": 8,
   "metadata": {},
   "outputs": [],
   "source": [
    "### Data Preparation ###"
   ]
  },
  {
   "cell_type": "code",
   "execution_count": 9,
   "metadata": {},
   "outputs": [],
   "source": [
    "country = 'Japan'\n",
    "epoch = pd.to_datetime('2020-02-01')\n",
    "last = pd.to_datetime('2020-04-19')\n",
    "C0 = confirmed.loc[epoch:last, country].values\n",
    "R0 = (recovered).loc[epoch:last, country].values\n",
    "D0 = death.loc[epoch:last, country].values\n",
    "P = 12000_0000\n",
    "iteration=2000\n",
    "repeat = 1000"
   ]
  },
  {
   "cell_type": "code",
   "execution_count": 10,
   "metadata": {},
   "outputs": [],
   "source": [
    "data = {'T': C0.shape[0], 'T0': 0, 'P': P, 'C0': C0, 'R0': R0, 'D0':D0}"
   ]
  },
  {
   "cell_type": "code",
   "execution_count": 11,
   "metadata": {},
   "outputs": [],
   "source": [
    "### Model ###"
   ]
  },
  {
   "cell_type": "code",
   "execution_count": 49,
   "metadata": {
    "scrolled": true
   },
   "outputs": [
    {
     "name": "stderr",
     "output_type": "stream",
     "text": [
      "INFO:pystan:COMPILING THE C++ CODE FOR MODEL anon_model_3886e57110f3b8de586ea08fc57b5cec NOW.\n"
     ]
    }
   ],
   "source": [
    "sm_1 = pystan.StanModel(file=\"single-step.stan\")"
   ]
  },
  {
   "cell_type": "code",
   "execution_count": 45,
   "metadata": {
    "scrolled": true
   },
   "outputs": [
    {
     "name": "stderr",
     "output_type": "stream",
     "text": [
      "INFO:pystan:COMPILING THE C++ CODE FOR MODEL anon_model_9c06f55447435c45c12b9f6d6ddd875c NOW.\n"
     ]
    }
   ],
   "source": [
    "sm_const = pystan.StanModel(file=\"const.stan\")"
   ]
  },
  {
   "cell_type": "code",
   "execution_count": 50,
   "metadata": {
    "scrolled": true
   },
   "outputs": [
    {
     "ename": "RuntimeError",
     "evalue": "Initialization failed.",
     "output_type": "error",
     "traceback": [
      "\u001b[0;31m---------------------------------------------------------------------------\u001b[0m",
      "\u001b[0;31mRemoteTraceback\u001b[0m                           Traceback (most recent call last)",
      "\u001b[0;31mRemoteTraceback\u001b[0m: \n\"\"\"\nTraceback (most recent call last):\n  File \"/Users/yoriyuki/.pyenv/versions/anaconda3-5.3.1/envs/COVID-19/lib/python3.7/multiprocessing/pool.py\", line 121, in worker\n    result = (True, func(*args, **kwds))\n  File \"/Users/yoriyuki/.pyenv/versions/anaconda3-5.3.1/envs/COVID-19/lib/python3.7/multiprocessing/pool.py\", line 44, in mapstar\n    return list(map(*args))\n  File \"stanfit4anon_model_3886e57110f3b8de586ea08fc57b5cec_6381960119238647042.pyx\", line 371, in stanfit4anon_model_3886e57110f3b8de586ea08fc57b5cec_6381960119238647042._call_sampler_star\n  File \"stanfit4anon_model_3886e57110f3b8de586ea08fc57b5cec_6381960119238647042.pyx\", line 404, in stanfit4anon_model_3886e57110f3b8de586ea08fc57b5cec_6381960119238647042._call_sampler\nRuntimeError: Initialization failed.\n\"\"\"",
      "\nThe above exception was the direct cause of the following exception:\n",
      "\u001b[0;31mRuntimeError\u001b[0m                              Traceback (most recent call last)",
      "\u001b[0;32m<ipython-input-50-877a124973cb>\u001b[0m in \u001b[0;36m<module>\u001b[0;34m\u001b[0m\n\u001b[1;32m      4\u001b[0m                'NI':(1 + np.zeros((78,))), 'ND':(1 + np.zeros((78,))), 'NR':(1 + np.zeros((78,)))}\n\u001b[1;32m      5\u001b[0m fit_1 = sm_1.sampling(data=data, iter=iteration, init=[init_values, init_values, init_values, init_values],\n\u001b[0;32m----> 6\u001b[0;31m                       control={'adapt_delta':0.99999})\n\u001b[0m\u001b[1;32m      7\u001b[0m \u001b[0mfit_1\u001b[0m\u001b[0;34m\u001b[0m\u001b[0;34m\u001b[0m\u001b[0m\n",
      "\u001b[0;32m~/.pyenv/versions/anaconda3-5.3.1/envs/COVID-19/lib/python3.7/site-packages/pystan/model.py\u001b[0m in \u001b[0;36msampling\u001b[0;34m(self, data, pars, chains, iter, warmup, thin, seed, init, sample_file, diagnostic_file, verbose, algorithm, control, n_jobs, **kwargs)\u001b[0m\n\u001b[1;32m    776\u001b[0m         \u001b[0mcall_sampler_args\u001b[0m \u001b[0;34m=\u001b[0m \u001b[0mizip\u001b[0m\u001b[0;34m(\u001b[0m\u001b[0mitertools\u001b[0m\u001b[0;34m.\u001b[0m\u001b[0mrepeat\u001b[0m\u001b[0;34m(\u001b[0m\u001b[0mdata\u001b[0m\u001b[0;34m)\u001b[0m\u001b[0;34m,\u001b[0m \u001b[0margs_list\u001b[0m\u001b[0;34m,\u001b[0m \u001b[0mitertools\u001b[0m\u001b[0;34m.\u001b[0m\u001b[0mrepeat\u001b[0m\u001b[0;34m(\u001b[0m\u001b[0mpars\u001b[0m\u001b[0;34m)\u001b[0m\u001b[0;34m)\u001b[0m\u001b[0;34m\u001b[0m\u001b[0;34m\u001b[0m\u001b[0m\n\u001b[1;32m    777\u001b[0m         \u001b[0mcall_sampler_star\u001b[0m \u001b[0;34m=\u001b[0m \u001b[0mself\u001b[0m\u001b[0;34m.\u001b[0m\u001b[0mmodule\u001b[0m\u001b[0;34m.\u001b[0m\u001b[0m_call_sampler_star\u001b[0m\u001b[0;34m\u001b[0m\u001b[0;34m\u001b[0m\u001b[0m\n\u001b[0;32m--> 778\u001b[0;31m         \u001b[0mret_and_samples\u001b[0m \u001b[0;34m=\u001b[0m \u001b[0m_map_parallel\u001b[0m\u001b[0;34m(\u001b[0m\u001b[0mcall_sampler_star\u001b[0m\u001b[0;34m,\u001b[0m \u001b[0mcall_sampler_args\u001b[0m\u001b[0;34m,\u001b[0m \u001b[0mn_jobs\u001b[0m\u001b[0;34m)\u001b[0m\u001b[0;34m\u001b[0m\u001b[0;34m\u001b[0m\u001b[0m\n\u001b[0m\u001b[1;32m    779\u001b[0m         \u001b[0msamples\u001b[0m \u001b[0;34m=\u001b[0m \u001b[0;34m[\u001b[0m\u001b[0msmpl\u001b[0m \u001b[0;32mfor\u001b[0m \u001b[0m_\u001b[0m\u001b[0;34m,\u001b[0m \u001b[0msmpl\u001b[0m \u001b[0;32min\u001b[0m \u001b[0mret_and_samples\u001b[0m\u001b[0;34m]\u001b[0m\u001b[0;34m\u001b[0m\u001b[0;34m\u001b[0m\u001b[0m\n\u001b[1;32m    780\u001b[0m \u001b[0;34m\u001b[0m\u001b[0m\n",
      "\u001b[0;32m~/.pyenv/versions/anaconda3-5.3.1/envs/COVID-19/lib/python3.7/site-packages/pystan/model.py\u001b[0m in \u001b[0;36m_map_parallel\u001b[0;34m(function, args, n_jobs)\u001b[0m\n\u001b[1;32m     83\u001b[0m         \u001b[0;32mtry\u001b[0m\u001b[0;34m:\u001b[0m\u001b[0;34m\u001b[0m\u001b[0;34m\u001b[0m\u001b[0m\n\u001b[1;32m     84\u001b[0m             \u001b[0mpool\u001b[0m \u001b[0;34m=\u001b[0m \u001b[0mmultiprocessing\u001b[0m\u001b[0;34m.\u001b[0m\u001b[0mPool\u001b[0m\u001b[0;34m(\u001b[0m\u001b[0mprocesses\u001b[0m\u001b[0;34m=\u001b[0m\u001b[0mn_jobs\u001b[0m\u001b[0;34m)\u001b[0m\u001b[0;34m\u001b[0m\u001b[0;34m\u001b[0m\u001b[0m\n\u001b[0;32m---> 85\u001b[0;31m             \u001b[0mmap_result\u001b[0m \u001b[0;34m=\u001b[0m \u001b[0mpool\u001b[0m\u001b[0;34m.\u001b[0m\u001b[0mmap\u001b[0m\u001b[0;34m(\u001b[0m\u001b[0mfunction\u001b[0m\u001b[0;34m,\u001b[0m \u001b[0margs\u001b[0m\u001b[0;34m)\u001b[0m\u001b[0;34m\u001b[0m\u001b[0;34m\u001b[0m\u001b[0m\n\u001b[0m\u001b[1;32m     86\u001b[0m         \u001b[0;32mfinally\u001b[0m\u001b[0;34m:\u001b[0m\u001b[0;34m\u001b[0m\u001b[0;34m\u001b[0m\u001b[0m\n\u001b[1;32m     87\u001b[0m             \u001b[0mpool\u001b[0m\u001b[0;34m.\u001b[0m\u001b[0mclose\u001b[0m\u001b[0;34m(\u001b[0m\u001b[0;34m)\u001b[0m\u001b[0;34m\u001b[0m\u001b[0;34m\u001b[0m\u001b[0m\n",
      "\u001b[0;32m~/.pyenv/versions/anaconda3-5.3.1/envs/COVID-19/lib/python3.7/multiprocessing/pool.py\u001b[0m in \u001b[0;36mmap\u001b[0;34m(self, func, iterable, chunksize)\u001b[0m\n\u001b[1;32m    266\u001b[0m         \u001b[0;32min\u001b[0m \u001b[0ma\u001b[0m \u001b[0mlist\u001b[0m \u001b[0mthat\u001b[0m \u001b[0;32mis\u001b[0m \u001b[0mreturned\u001b[0m\u001b[0;34m.\u001b[0m\u001b[0;34m\u001b[0m\u001b[0;34m\u001b[0m\u001b[0m\n\u001b[1;32m    267\u001b[0m         '''\n\u001b[0;32m--> 268\u001b[0;31m         \u001b[0;32mreturn\u001b[0m \u001b[0mself\u001b[0m\u001b[0;34m.\u001b[0m\u001b[0m_map_async\u001b[0m\u001b[0;34m(\u001b[0m\u001b[0mfunc\u001b[0m\u001b[0;34m,\u001b[0m \u001b[0miterable\u001b[0m\u001b[0;34m,\u001b[0m \u001b[0mmapstar\u001b[0m\u001b[0;34m,\u001b[0m \u001b[0mchunksize\u001b[0m\u001b[0;34m)\u001b[0m\u001b[0;34m.\u001b[0m\u001b[0mget\u001b[0m\u001b[0;34m(\u001b[0m\u001b[0;34m)\u001b[0m\u001b[0;34m\u001b[0m\u001b[0;34m\u001b[0m\u001b[0m\n\u001b[0m\u001b[1;32m    269\u001b[0m \u001b[0;34m\u001b[0m\u001b[0m\n\u001b[1;32m    270\u001b[0m     \u001b[0;32mdef\u001b[0m \u001b[0mstarmap\u001b[0m\u001b[0;34m(\u001b[0m\u001b[0mself\u001b[0m\u001b[0;34m,\u001b[0m \u001b[0mfunc\u001b[0m\u001b[0;34m,\u001b[0m \u001b[0miterable\u001b[0m\u001b[0;34m,\u001b[0m \u001b[0mchunksize\u001b[0m\u001b[0;34m=\u001b[0m\u001b[0;32mNone\u001b[0m\u001b[0;34m)\u001b[0m\u001b[0;34m:\u001b[0m\u001b[0;34m\u001b[0m\u001b[0;34m\u001b[0m\u001b[0m\n",
      "\u001b[0;32m~/.pyenv/versions/anaconda3-5.3.1/envs/COVID-19/lib/python3.7/multiprocessing/pool.py\u001b[0m in \u001b[0;36mget\u001b[0;34m(self, timeout)\u001b[0m\n\u001b[1;32m    655\u001b[0m             \u001b[0;32mreturn\u001b[0m \u001b[0mself\u001b[0m\u001b[0;34m.\u001b[0m\u001b[0m_value\u001b[0m\u001b[0;34m\u001b[0m\u001b[0;34m\u001b[0m\u001b[0m\n\u001b[1;32m    656\u001b[0m         \u001b[0;32melse\u001b[0m\u001b[0;34m:\u001b[0m\u001b[0;34m\u001b[0m\u001b[0;34m\u001b[0m\u001b[0m\n\u001b[0;32m--> 657\u001b[0;31m             \u001b[0;32mraise\u001b[0m \u001b[0mself\u001b[0m\u001b[0;34m.\u001b[0m\u001b[0m_value\u001b[0m\u001b[0;34m\u001b[0m\u001b[0;34m\u001b[0m\u001b[0m\n\u001b[0m\u001b[1;32m    658\u001b[0m \u001b[0;34m\u001b[0m\u001b[0m\n\u001b[1;32m    659\u001b[0m     \u001b[0;32mdef\u001b[0m \u001b[0m_set\u001b[0m\u001b[0;34m(\u001b[0m\u001b[0mself\u001b[0m\u001b[0;34m,\u001b[0m \u001b[0mi\u001b[0m\u001b[0;34m,\u001b[0m \u001b[0mobj\u001b[0m\u001b[0;34m)\u001b[0m\u001b[0;34m:\u001b[0m\u001b[0;34m\u001b[0m\u001b[0;34m\u001b[0m\u001b[0m\n",
      "\u001b[0;31mRuntimeError\u001b[0m: Initialization failed."
     ]
    }
   ],
   "source": [
    "# Train the model and generate samples\n",
    "init_values = {'init_inf':10, 'b0':0.3, 'b1':0.3, 'theta_b':1, 'b_date':70, 'q0':1, 'q1':1, 'theta_q':1, 'q_date':10, \n",
    "               'a':0.1, 'd':0.001, 'p':0.5,\n",
    "               'NI':(1 + np.zeros((78,))), 'ND':(1 + np.zeros((78,))), 'NR':(1 + np.zeros((78,)))}\n",
    "fit_1 = sm_1.sampling(data=data, iter=iteration, init=[init_values, init_values, init_values, init_values],\n",
    "                      control={'adapt_delta':0.99999})\n",
    "fit_1"
   ]
  },
  {
   "cell_type": "code",
   "execution_count": 46,
   "metadata": {
    "scrolled": true
   },
   "outputs": [
    {
     "name": "stderr",
     "output_type": "stream",
     "text": [
      "WARNING:pystan:28 of 4000 iterations saturated the maximum tree depth of 10 (0.7 %)\n",
      "WARNING:pystan:Run again with max_treedepth larger than 10 to avoid saturation\n",
      "WARNING:pystan:Truncated summary with the 'fit.__repr__' method. For the full summary use 'print(fit)'\n"
     ]
    },
    {
     "data": {
      "text/plain": [
       "\n",
       "Warning: Shown data is truncated to 100 parameters\n",
       "For the full summary use 'print(fit)'\n",
       "\n",
       "Inference for Stan model: anon_model_9c06f55447435c45c12b9f6d6ddd875c.\n",
       "4 chains, each with iter=2000; warmup=1000; thin=1; \n",
       "post-warmup draws per chain=1000, total post-warmup draws=4000.\n",
       "\n",
       "              mean se_mean     sd   2.5%    25%    50%    75%  97.5%  n_eff   Rhat\n",
       "init_inf      12.2    0.03   2.08   8.48  10.75   12.1   13.5  16.54   3746    1.0\n",
       "b             0.51    0.01   0.57   0.04   0.14   0.32   0.67   2.11   2686    1.0\n",
       "p             0.34  5.9e-3   0.24   0.05   0.14   0.27   0.51    0.9   1691    1.0\n",
       "q              1.0  2.5e-5 1.8e-3   0.99    1.0    1.0    1.0    1.0   5548    1.0\n",
       "NI[1]         1.04    0.01   0.72   0.06   0.47   0.93   1.47   2.74   3516    1.0\n",
       "NI[2]          1.1    0.01   0.75   0.05   0.51   0.97   1.56   2.85   3618    1.0\n",
       "NI[3]         2.11    0.01   0.84   0.67   1.51   2.06   2.65   3.93   4421    1.0\n",
       "NI[4]         1.25    0.01   0.85   0.06   0.58   1.12   1.79   3.13   3582    1.0\n",
       "NI[5]         1.32    0.01   0.89   0.07   0.62   1.19   1.88   3.33   3939    1.0\n",
       "NI[6]         2.84    0.01   0.93   1.16    2.2   2.79   3.44   4.78   4160    1.0\n",
       "NI[7]         1.47    0.02   0.97   0.08   0.71   1.34   2.09   3.63   3203    1.0\n",
       "NI[8]         2.27    0.02   1.09   0.46   1.45   2.17   2.99   4.62   3778    1.0\n",
       "NI[9]         1.66    0.02   1.13   0.07   0.73    1.5   2.38   4.16   2973    1.0\n",
       "NI[10]        1.82    0.02   1.15    0.1   0.92   1.67   2.59    4.4   2902    1.0\n",
       "NI[11]        3.27    0.02    1.2   1.11   2.42   3.21   4.04   5.75   3065    1.0\n",
       "NI[12]        2.06    0.02   1.29   0.13   1.03   1.93   2.87    4.9   3340    1.0\n",
       "NI[13]        3.09    0.02   1.36   0.66    2.1   3.01   3.96   5.97   3791    1.0\n",
       "NI[14]        7.65    0.02   1.35   5.14   6.68   7.62   8.52  10.48   4503    1.0\n",
       "NI[15]        8.68    0.02   1.46   6.02   7.68   8.61   9.63  11.71   3910    1.0\n",
       "NI[16]        6.53    0.02   1.58   3.67   5.44   6.43   7.56    9.8   4898    1.0\n",
       "NI[17]        7.26    0.02   1.68   4.21   6.06    7.2   8.33  10.73   5774    1.0\n",
       "NI[18]        8.39    0.03   1.76   5.09   7.18   8.36   9.57   11.9   3684    1.0\n",
       "NI[19]         8.8    0.03   1.87   5.32   7.55   8.76  10.01  12.74   4223    1.0\n",
       "NI[20]        9.64    0.03   1.97   6.02   8.27   9.58  10.93  13.73   4882    1.0\n",
       "NI[21]       12.34    0.03   1.98   8.56  10.99   12.3  13.65  16.33   4268    1.0\n",
       "NI[22]       15.47    0.03   2.14   11.5  13.99  15.44   16.9  19.77   4335    1.0\n",
       "NI[23]       11.48    0.04    2.3   7.23    9.9  11.43   13.0   16.1   3948    1.0\n",
       "NI[24]       11.48    0.04   2.42   6.97    9.8  11.36  13.06  16.45   4267    1.0\n",
       "NI[25]       15.52    0.04   2.49  10.87  13.86  15.43  17.17  20.69   3652    1.0\n",
       "NI[26]       18.51    0.04   2.67  13.43   16.7   18.5  20.22  24.07   4404    1.0\n",
       "NI[27]       14.64    0.04   2.65   9.69   12.8  14.58  16.38  20.02   4743    1.0\n",
       "NI[28]        14.6    0.04   2.81   9.39  12.67  14.53  16.47  20.34   3956    1.0\n",
       "NI[29]       16.46    0.04   2.91  11.04  14.43  16.35  18.43  22.36   4981    1.0\n",
       "NI[30]       18.73    0.04   3.07  13.06  16.56  18.65  20.74  25.08   5018    1.0\n",
       "NI[31]       20.04    0.05   3.27  13.67  17.85   20.0  22.15  26.55   3642    1.0\n",
       "NI[32]       29.25    0.05   3.39  22.91  26.87  29.17  31.51   36.1   4621    1.0\n",
       "NI[33]       26.83    0.05    3.6   20.0  24.38  26.75  29.21  34.08   5166    1.0\n",
       "NI[34]       39.92    0.06   3.71  32.77  37.37  39.93  42.36  47.49   4170    1.0\n",
       "NI[35]       34.45    0.06    3.9  27.04   31.8  34.32  37.02  42.44   4449    1.0\n",
       "NI[36]       36.03    0.06   3.99  28.65  33.24  35.99  38.74  44.27   4788    1.0\n",
       "NI[37]       17.19    0.07    4.1   9.59  14.33  17.04  19.72  25.79   3918    1.0\n",
       "NI[38]       50.58    0.06    4.2  42.24  47.76  50.53  53.37  58.85   4263    1.0\n",
       "NI[39]       48.09    0.07   4.53  39.34  44.91  48.01  51.15  57.24   3757    1.0\n",
       "NI[40]        4.15    0.05   3.47   0.15   1.41   3.28   5.96  12.96   4936    1.0\n",
       "NI[41]       52.71    0.08   4.81  43.42  49.45  52.68  55.97  62.33   3457    1.0\n",
       "NI[42]       59.37    0.08   4.98  49.91  55.92  59.28  62.71  69.38   3604    1.0\n",
       "NI[43]        59.4    0.08   5.25  49.16  55.82  59.37   63.0  69.73   4505    1.0\n",
       "NI[44]        5.09    0.05   4.08   0.17   1.89   4.12   7.31  15.36   6312    1.0\n",
       "NI[45]       48.78    0.08   5.54  38.19  44.99  48.66  52.38  60.03   4252    1.0\n",
       "NI[46]       27.66    0.09   5.83  17.09  23.55  27.42  31.47  39.71   3841    1.0\n",
       "NI[47]       50.45     0.1    6.0  38.89   46.4  50.49  54.37  62.68   3922    1.0\n",
       "NI[48]        55.8    0.09   6.22  43.82   51.7  55.64  59.94  68.19   4451    1.0\n",
       "NI[49]       61.87    0.11   6.34  49.56  57.57   61.8  66.06  74.56   3429    1.0\n",
       "NI[50]       91.61     0.1   6.73  78.67  86.91  91.74  96.02 105.14   4791    1.0\n",
       "NI[51]       54.88    0.11   7.06  41.32  50.07  54.94  59.45  68.93   4214    1.0\n",
       "NI[52]       84.61     0.1   6.97  71.27  79.92  84.53  89.19  98.29   4568    1.0\n",
       "NI[53]      114.27    0.11   7.18 100.46 109.36 114.16 119.07 129.02   4365    1.0\n",
       "NI[54]      102.15    0.11   7.58  87.46  97.23 101.98 107.22 116.98   4907    1.0\n",
       "NI[55]      107.69    0.12   8.11  91.93 102.01 107.65 113.31 123.97   4239    1.0\n",
       "NI[56]      178.37    0.12   8.02  163.1 172.81  178.2 183.71 194.25   4133    1.0\n",
       "NI[57]      165.88    0.14   8.69 148.55 159.96 165.94 171.55 183.72   3831    1.0\n",
       "NI[58]       21.31    0.19  10.93   2.27  13.07  20.85  28.69  44.22   3229    1.0\n",
       "NI[59]      131.73    0.14   9.26 113.82 125.32 131.56 137.88 150.03   4410    1.0\n",
       "NI[60]      209.39    0.16   9.76 190.15 202.93 209.39 215.81 228.54   3697    1.0\n",
       "NI[61]      256.46    0.16   9.98 237.16 249.67 256.41 263.15 276.45   4106    1.0\n",
       "NI[62]      175.27    0.15   10.4 154.99 168.34 175.03 182.23 196.09   5103    1.0\n",
       "NI[63]      353.43    0.17  11.11 332.22 345.97 353.01 360.73 376.54   4090    1.0\n",
       "NI[64]        26.0    0.23  14.01   2.81  15.71  25.14  35.09  56.27   3621    1.0\n",
       "NI[65]      374.99    0.19  11.62 352.67  366.9 374.76 383.03 397.69   3686    1.0\n",
       "NI[66]      281.69    0.18  12.02 258.31 273.46 281.59 289.78  304.9   4247    1.0\n",
       "NI[67]      344.31     0.2  12.73 319.11 335.65  344.3 353.09 369.01   4155    1.0\n",
       "NI[68]      387.33    0.21  13.63 360.19 378.29 387.26 396.27 414.49   4418    1.0\n",
       "NI[69]      575.19    0.21  13.97 547.36 565.87 575.07 584.38 602.94   4375    1.0\n",
       "NI[70]      452.57    0.24  14.96 424.33 442.33 452.29 462.85 481.88   3835    1.0\n",
       "NI[71]      586.33    0.24  15.19 556.77  576.0 585.93 596.41 616.87   3862    1.0\n",
       "NI[72]      561.87    0.25  16.45 529.45 550.91 561.72 573.04 595.21   4299    1.0\n",
       "NI[73]       392.8    0.24  16.92 359.54 381.36 392.94 404.26 426.27   5004    1.0\n",
       "NI[74]      525.63    0.27  17.92 491.29 513.32 525.61 537.52 561.01   4529    1.0\n",
       "NI[75]       589.4     0.3  18.91 553.17 576.41 589.48 602.11 625.62   3846    1.0\n",
       "NI[76]      899.14    0.35  20.39 858.93 885.39  898.8 912.87  938.7   3363    1.0\n",
       "NI[77]      630.33    0.31  19.77 591.45 617.07  630.2 643.14 670.17   4107    1.0\n",
       "NI[78]      654.65    0.33  21.43 613.45 639.93 654.85 668.94 697.36   4213    1.0\n",
       "a             0.01  4.8e-6 3.1e-410.0e-3   0.01   0.01   0.01   0.01   4056    1.0\n",
       "d           2.2e-3  2.2e-6 1.4e-4 1.9e-3 2.1e-3 2.2e-3 2.3e-3 2.4e-3   4061    1.0\n",
       "log_lik[1]   -1.04    0.01   0.72  -2.74  -1.47  -0.92  -0.47  -0.06   3516    1.0\n",
       "log_lik[2]    -1.1    0.01   0.75  -2.84  -1.56  -0.97   -0.5  -0.05   3618    1.0\n",
       "log_lik[3]   -1.49  7.2e-3   0.28  -2.27  -1.54  -1.39  -1.33  -1.31   1475    1.0\n",
       "log_lik[4]   -1.25    0.01   0.85  -3.13  -1.79  -1.11  -0.58  -0.06   3583    1.0\n",
       "log_lik[5]   -1.32    0.01   0.89  -3.33  -1.88  -1.19  -0.62  -0.07   3940    1.0\n",
       "log_lik[6]   -1.68  7.3e-3    0.3  -2.53  -1.71  -1.57  -1.51   -1.5   1625    1.0\n",
       "log_lik[7]   -1.47    0.02   0.97  -3.62  -2.09  -1.34   -0.7  -0.08   3201    1.0\n",
       "log_lik[8]   -1.59  7.6e-3   0.58  -3.08   -1.9  -1.41  -1.12   -1.0   5874    1.0\n",
       "log_lik[9]   -1.66    0.02   1.13  -4.15  -2.38   -1.5  -0.73  -0.07   2974    1.0\n",
       "log_lik[10]  -1.82    0.02   1.15  -4.39  -2.58  -1.67  -0.92  -0.09   2901    1.0\n",
       "log_lik[11]  -1.75  7.8e-3   0.47  -3.03  -1.95   -1.6  -1.38  -1.31   3584    1.0\n",
       "log_lik[12]  -2.06    0.02   1.28  -4.89  -2.86  -1.93  -1.02  -0.13   3340    1.0\n",
       "log_lik[13]  -2.08    0.01   0.87  -4.17  -2.58  -1.91  -1.37  -1.01   5256    1.0\n",
       "log_lik[14]   -4.6    0.02   1.22  -7.41  -5.29   -4.4  -3.72  -2.79   3696    1.0\n",
       "log_lik[15]  -5.01    0.02   1.29  -7.99  -5.75  -4.85  -4.08  -3.02   3577    1.0\n",
       "lp__         5.5e4    0.17   6.82  5.5e4  5.5e4  5.5e4  5.5e4  5.5e4   1542    1.0\n",
       "\n",
       "Samples were drawn using NUTS at Sat Apr 25 16:29:28 2020.\n",
       "For each parameter, n_eff is a crude measure of effective sample size,\n",
       "and Rhat is the potential scale reduction factor on split chains (at \n",
       "convergence, Rhat=1)."
      ]
     },
     "execution_count": 46,
     "metadata": {},
     "output_type": "execute_result"
    }
   ],
   "source": [
    "# Train the model and generate samples\n",
    "init_values = {'init_inf':10, 'b':0.3, 'q':1,\n",
    "               'a':0.1, 'd':0.001, 'p':0.5,\n",
    "               'NI':(1 + np.zeros((78,))), 'ND':(1 + np.zeros((78,))), 'NR':(1 + np.zeros((78,)))}\n",
    "fit_const = sm_const.sampling(data=data, iter=iteration, init='random')\n",
    "fit_const"
   ]
  },
  {
   "cell_type": "code",
   "execution_count": null,
   "metadata": {},
   "outputs": [],
   "source": [
    "# Save models"
   ]
  },
  {
   "cell_type": "code",
   "execution_count": null,
   "metadata": {},
   "outputs": [],
   "source": [
    "## Saving results"
   ]
  },
  {
   "cell_type": "code",
   "execution_count": null,
   "metadata": {},
   "outputs": [],
   "source": [
    "import pickle\n",
    "with open(\"sm1_fit.pkl\", \"wb\") as f:\n",
    "    pickle.dump({'model' : sm_1, 'fit' : fit_1}, f, protocol=-1)\n",
    "    # or with a list\n",
    "    # pickle.dump([model, fit], f, protocol=-1)"
   ]
  },
  {
   "cell_type": "code",
   "execution_count": null,
   "metadata": {},
   "outputs": [],
   "source": [
    "import pickle\n",
    "with open(\"sm_const_fit.pkl\", \"wb\") as f:\n",
    "    pickle.dump({'model' : sm_const, 'fit' : fit_const}, f, protocol=-1)\n",
    "    # or with a list\n",
    "    # pickle.dump([model, fit], f, protocol=-1)"
   ]
  },
  {
   "cell_type": "code",
   "execution_count": null,
   "metadata": {},
   "outputs": [],
   "source": [
    "### Load modesl"
   ]
  },
  {
   "cell_type": "code",
   "execution_count": null,
   "metadata": {},
   "outputs": [],
   "source": [
    "with open(\"sm1_fit.pkl\", \"rb\") as f:\n",
    "    data_dict = pickle.load(f)\n",
    "    # or with a list\n",
    "    # data_list = pickle.load(f)\n",
    "sm_1 = data_dict['model']\n",
    "fit_start_1 = data_dict['fit']\n",
    "# fit = data_list[1]"
   ]
  },
  {
   "cell_type": "code",
   "execution_count": null,
   "metadata": {},
   "outputs": [],
   "source": [
    "# with open(\"sm2_fit.pkl\", \"rb\") as f:\n",
    "#     data_dict = pickle.load(f)\n",
    "#     # or with a list\n",
    "#     # data_list = pickle.load(f)\n",
    "# sm_2 = data_dict['model']\n",
    "# fit_start_2 = data_dict['fit']\n",
    "# # fit = data_list[1]"
   ]
  },
  {
   "cell_type": "code",
   "execution_count": null,
   "metadata": {},
   "outputs": [],
   "source": [
    "with open(\"sm_const_fit.pkl\", \"rb\") as f:\n",
    "    data_dict = pickle.load(f)\n",
    "    # or with a list\n",
    "    # data_list = pickle.load(f)\n",
    "sm_const = data_dict['model']\n",
    "fit_const = data_dict['fit']\n",
    "# fit = data_list[1]"
   ]
  },
  {
   "cell_type": "code",
   "execution_count": null,
   "metadata": {},
   "outputs": [],
   "source": [
    "### Convergence"
   ]
  },
  {
   "cell_type": "code",
   "execution_count": null,
   "metadata": {},
   "outputs": [],
   "source": [
    "#data_const = az.from_pystan(fit_const, log_likelihood='log_lik')\n",
    "data_1 = az.from_pystan(fit_1, log_likelihood='log_lik')"
   ]
  },
  {
   "cell_type": "code",
   "execution_count": null,
   "metadata": {},
   "outputs": [],
   "source": [
    "az.plot_trace(data_const, var_names=['init_inf', 'b', 'p', 'a', 'd', 'q'])"
   ]
  },
  {
   "cell_type": "code",
   "execution_count": null,
   "metadata": {},
   "outputs": [],
   "source": [
    "az.plot_trace(data_1, var_names=['init_inf', 'b0', 'b1', 'b_date', 'theta_b', 'q0', 'q1', 'q_date', 'theta_q', 'a', 'd'], divergences='top')"
   ]
  },
  {
   "cell_type": "code",
   "execution_count": null,
   "metadata": {},
   "outputs": [],
   "source": [
    "az.plot_pair(data_1, var_names=['b_date', 'NI'])"
   ]
  },
  {
   "cell_type": "code",
   "execution_count": null,
   "metadata": {},
   "outputs": [],
   "source": [
    "data_1"
   ]
  },
  {
   "cell_type": "code",
   "execution_count": null,
   "metadata": {},
   "outputs": [],
   "source": [
    "## Validation by simulation"
   ]
  },
  {
   "cell_type": "code",
   "execution_count": null,
   "metadata": {},
   "outputs": [],
   "source": [
    "def sigmoid(x, theta, t0):\n",
    "    return 1/(1 + np.exp(-(x-t0)/theta))"
   ]
  },
  {
   "cell_type": "code",
   "execution_count": null,
   "metadata": {},
   "outputs": [],
   "source": [
    "def simulate(init_inf, b0, b1, theta_b, b_date, q0, q1, theta_q, q_date,\n",
    "             a, d, p, horizon):\n",
    "    C = init_inf;\n",
    "    R = 0;\n",
    "    D = 0;\n",
    "    C_list = [C]\n",
    "    R_list = [R]\n",
    "    D_list = [D]\n",
    "    b_list = [b0]\n",
    "    q = q0 + (q1 - q0) * sigmoid(0, theta_q, q_date)\n",
    "    q_list = [q]\n",
    "    C0 = [scipy.stats.poisson.rvs(q*init_inf)]\n",
    "    R0 = [scipy.stats.poisson.rvs(a * C0[0])]\n",
    "    D0 = [scipy.stats.poisson.rvs(d * C0[0])]\n",
    "    for t in range(horizon):\n",
    "        b = b0 + (b1-b0) * sigmoid(t, theta_b, b_date)\n",
    "        NI = (1 - pow(1 - p, b * (C - R - D) / (P - D))) * (P - C)\n",
    "#        NI = (C - R - D) * b * p * (1 - C/P)\n",
    "        q = q0 + (q1 - q0) * sigmoid(t, theta_q, q_date)\n",
    "        NR = a * (C - R - D)\n",
    "        ND = d * (C - R - D)\n",
    "        D = D + ND\n",
    "        C = C + NI\n",
    "        R = R + NR\n",
    "        C_list.append(C)\n",
    "        R_list.append(R)\n",
    "        D_list.append(D)\n",
    "        b_list.append(b)\n",
    "        q_list.append(q)\n",
    "        NI0 = scipy.stats.poisson.rvs(q*NI)\n",
    "        NR0 = scipy.stats.poisson.rvs(a * (C0[-1] - R0[-1] - D0[-1]))\n",
    "        ND0 = scipy.stats.poisson.rvs(d * (C0[-1] - R0[-1] - D0[-1]))\n",
    "        C0.append(C0[-1]+NI0)\n",
    "        R0.append(R0[-1]+NR0)\n",
    "        D0.append(D0[-1]+ND0)\n",
    "    data = pd.DataFrame({'C':np.array(C_list),\n",
    "                        'R':np.array(R_list),\n",
    "                        'D':np.array(D_list),\n",
    "                        'b':np.array(b_list),\n",
    "                        'q':np.array(q_list),\n",
    "                        'C0':np.array(C0),\n",
    "                        'R0':np.array(R0),\n",
    "                        'D0':np.array(D0)},\n",
    "                        index=pd.date_range(start=epoch, periods=horizon+1, freq='D'))\n",
    "    return data"
   ]
  },
  {
   "cell_type": "code",
   "execution_count": null,
   "metadata": {},
   "outputs": [],
   "source": [
    "df = simulate(init_inf=10,\n",
    "                      b0=0.3,\n",
    "                      b1=0.3,\n",
    "                      theta_b=1,\n",
    "                      b_date=70,\n",
    "                      q0=1,\n",
    "                      q1=1,\n",
    "                      theta_q=1,\n",
    "                      q_date=10,\n",
    "                      a=0.1,\n",
    "                      d=0.001,\n",
    "                      p=0.5,\n",
    "                      horizon=78)\n",
    "df['C0']"
   ]
  },
  {
   "cell_type": "code",
   "execution_count": null,
   "metadata": {
    "scrolled": true
   },
   "outputs": [],
   "source": [
    "i = 0\n",
    "fit = fit_1\n",
    "horizon=(pd.to_datetime('2020-04-18') - pd.to_datetime('2020-02-01')).days\n",
    "df = simulate(init_inf=fit['init_inf'][i],\n",
    "                      b0=fit['b0'][i],\n",
    "                      b1=fit['b1'][i],\n",
    "                      theta_b=fit['theta_b'][i],\n",
    "                      b_date=fit['b_date'][i],\n",
    "                      q0=fit['q0'][i],\n",
    "                      q1=fit['q1'][i],\n",
    "                      theta_q=fit['theta_q'][i],\n",
    "                      q_date=fit['q_date'][i],\n",
    "                      a=fit['a'][i],\n",
    "                      d=fit['d'][i],\n",
    "                      p=fit['p'][i],\n",
    "                      horizon=horizon)\n",
    "df['NI']"
   ]
  },
  {
   "cell_type": "code",
   "execution_count": null,
   "metadata": {},
   "outputs": [],
   "source": [
    "C0S"
   ]
  },
  {
   "cell_type": "code",
   "execution_count": null,
   "metadata": {},
   "outputs": [],
   "source": [
    "C0S = df['C0'].values\n",
    "R0S = df['R0'].values\n",
    "D0S = df['D0'].values\n",
    "data_simulated = {'T': C0S.shape[0], 'T0': 0, 'P': P, 'C0': C0S, 'R0': R0S, 'D0':D0S}"
   ]
  },
  {
   "cell_type": "code",
   "execution_count": null,
   "metadata": {},
   "outputs": [],
   "source": [
    "# Train the model and generate samples\n",
    "fit_simulated = sm_1.sampling(data=data_simulated, iter=2000, init='random')\n",
    "fit_simulated"
   ]
  },
  {
   "cell_type": "code",
   "execution_count": null,
   "metadata": {},
   "outputs": [],
   "source": [
    "i = 0\n",
    "(fit_1['init_inf'][i], fit_1['b0'][i], fit_1['b1'][i], fit_1['theta_b'][i], \n",
    "fit_1['b_date'][i], fit_1['p'][i], fit_1['q0'][i], fit_1['q1'][i], fit_1['theta_q'][i], fit_1['q_date'][7]\n",
    ",fit_1['a'][i], fit_1['d'][i])"
   ]
  },
  {
   "cell_type": "code",
   "execution_count": null,
   "metadata": {},
   "outputs": [],
   "source": [
    "data_sim = az.from_pystan(fit_simulated, log_likelihood='log_lik')"
   ]
  },
  {
   "cell_type": "code",
   "execution_count": null,
   "metadata": {},
   "outputs": [],
   "source": [
    "az.plot_trace(data_sim, var_names=['b1', 'b_date', 'p'])"
   ]
  },
  {
   "cell_type": "code",
   "execution_count": null,
   "metadata": {},
   "outputs": [],
   "source": [
    "### Visualization ###"
   ]
  },
  {
   "cell_type": "code",
   "execution_count": null,
   "metadata": {},
   "outputs": [],
   "source": [
    "def monte_carlo(fit, horizon):\n",
    "    S = pd.DataFrame()\n",
    "    R = pd.DataFrame()\n",
    "    D = pd.DataFrame()\n",
    "    b = pd.DataFrame()\n",
    "    q = pd.DataFrame()\n",
    "    S0 = pd.DataFrame()\n",
    "    R0 = pd.DataFrame()\n",
    "    I0 = pd.DataFrame()\n",
    "    D0 = pd.DataFrame()\n",
    "    n = fit['init_inf'].shape[0]\n",
    "    for k in range(repeat):\n",
    "        \n",
    "        df = simulate(init_inf=fit['init_inf'][i],\n",
    "                      b0=fit['b0'][i],\n",
    "                      b1=fit['b1'][i],\n",
    "                      theta_b=fit['theta_b'][i],\n",
    "                      b_date=fit['b_date'][i],\n",
    "                      q0=fit['q0'][i],\n",
    "                      q1=fit['q1'][i],\n",
    "                      theta_q=fit['theta_q'][i],\n",
    "                      q_date=fit['q_date'][i],\n",
    "                      a=fit['a'][i],\n",
    "                      d=fit['d'][i],\n",
    "                      p=fit['p'][i],\n",
    "                      horizon=horizon)\n",
    "        C = pd.concat([S, df['C']], axis=1)\n",
    "        R = pd.concat([R, df['R']], axis=1)\n",
    "        D = pd.concat([D, df['D']], axis=1)\n",
    "        b = pd.concat([b, df['b']], axis=1)\n",
    "        q = pd.concat([q, df['q']], axis=1)\n",
    "        C0 = pd.concat([S0, df['C0']], axis=1)\n",
    "        R0 = pd.concat([R0, df['R0']], axis=1)\n",
    "        D0 = pd.concat([D0, df['D0']], axis=1)\n",
    "        I0 = pd.concat([I0, df['C0'] - df['R0'] - df['D0']], axis=1)\n",
    "    return C, R, D, b, q, C0, R0, I0, D0\n",
    "    "
   ]
  },
  {
   "cell_type": "code",
   "execution_count": null,
   "metadata": {},
   "outputs": [],
   "source": [
    "def extract_series(fit, name):\n",
    "    value_list = []\n",
    "    for d in range(78):\n",
    "        vals = fit['{}[{}]'.format(name, d+1)]\n",
    "        value_list.append(vals)\n",
    "    data = np.array(value_list)\n",
    "    return pd.DataFrame(data, \n",
    "                        index=pd.date_range(start=epoch, periods=78, freq='D'))"
   ]
  },
  {
   "cell_type": "code",
   "execution_count": null,
   "metadata": {},
   "outputs": [],
   "source": [
    "def draw(simulated, real=None, upto=pd.to_datetime('2020-04-18')):\n",
    "    graph=pd.DataFrame(index=pd.date_range(start=epoch, end=upto))\n",
    "    simulated = simulated.dropna(axis=1)\n",
    "    median = simulated.median(axis=1)\n",
    "    upper = simulated.quantile(q=0.75, axis=1)\n",
    "    lower = simulated.quantile(q=0.25, axis=1)\n",
    "    if not real is None:\n",
    "        graph['Real'] = real\n",
    "    graph['Median'] = median\n",
    "    graph['Upper'] = upper\n",
    "    graph['Lower'] = lower\n",
    "    sns.relplot(kind=\"line\", data=graph, aspect=2)"
   ]
  },
  {
   "cell_type": "code",
   "execution_count": null,
   "metadata": {},
   "outputs": [],
   "source": [
    "C, R, D, b, q, C0S, R0S, I0S, D0S = monte_carlo(fit_1, 120)"
   ]
  },
  {
   "cell_type": "code",
   "execution_count": null,
   "metadata": {},
   "outputs": [],
   "source": [
    "NI= extract_series(fit_1, 'NI')"
   ]
  },
  {
   "cell_type": "code",
   "execution_count": null,
   "metadata": {},
   "outputs": [],
   "source": [
    "draw(NI.cumsum(), real=(confirmed-recovered)[country])"
   ]
  },
  {
   "cell_type": "code",
   "execution_count": null,
   "metadata": {},
   "outputs": [],
   "source": [
    "S.median(axis=1)[pd.to_datetime('2020-04-18')]"
   ]
  },
  {
   "cell_type": "code",
   "execution_count": null,
   "metadata": {},
   "outputs": [],
   "source": [
    "draw(q)"
   ]
  },
  {
   "cell_type": "code",
   "execution_count": null,
   "metadata": {},
   "outputs": [],
   "source": [
    "draw(b)"
   ]
  },
  {
   "cell_type": "code",
   "execution_count": null,
   "metadata": {},
   "outputs": [],
   "source": [
    "draw(R0S, real=recovered[country])"
   ]
  },
  {
   "cell_type": "code",
   "execution_count": null,
   "metadata": {
    "scrolled": true
   },
   "outputs": [],
   "source": [
    "draw(D0S, real=death[country])"
   ]
  },
  {
   "cell_type": "code",
   "execution_count": null,
   "metadata": {
    "scrolled": true
   },
   "outputs": [],
   "source": [
    "draw(S, upto=pd.to_datetime('2020-05-30'))"
   ]
  },
  {
   "cell_type": "code",
   "execution_count": null,
   "metadata": {
    "scrolled": true
   },
   "outputs": [],
   "source": [
    "draw(D, upto=pd.to_datetime('2020-05-30'))"
   ]
  },
  {
   "cell_type": "code",
   "execution_count": null,
   "metadata": {},
   "outputs": [],
   "source": [
    "### model selection"
   ]
  },
  {
   "cell_type": "code",
   "execution_count": null,
   "metadata": {},
   "outputs": [],
   "source": [
    "az.loo(data_const)"
   ]
  },
  {
   "cell_type": "code",
   "execution_count": null,
   "metadata": {
    "scrolled": false
   },
   "outputs": [],
   "source": [
    "az.loo(data_1)"
   ]
  },
  {
   "cell_type": "code",
   "execution_count": null,
   "metadata": {},
   "outputs": [],
   "source": [
    "az.compare({'const':data_const, '1-step':data_1})"
   ]
  },
  {
   "cell_type": "code",
   "execution_count": null,
   "metadata": {},
   "outputs": [],
   "source": [
    "az.loo(data_1, pointwise=True)"
   ]
  },
  {
   "cell_type": "code",
   "execution_count": null,
   "metadata": {},
   "outputs": [],
   "source": [
    "az.loo(data_const, pointwise=True)"
   ]
  },
  {
   "cell_type": "code",
   "execution_count": null,
   "metadata": {},
   "outputs": [],
   "source": [
    "data_CV = {'T': C0.shape[0], 'T0': 50, 'P': P, 'C0': C0, 'R0': R0, 'D0':D0}"
   ]
  },
  {
   "cell_type": "code",
   "execution_count": null,
   "metadata": {},
   "outputs": [],
   "source": [
    "# Train the model and generate samples\n",
    "fit_1_CV = sm_1.sampling(data=data_CV, iter=iteration, init=0)\n"
   ]
  },
  {
   "cell_type": "code",
   "execution_count": null,
   "metadata": {},
   "outputs": [],
   "source": [
    "v_log_lik = fit_1_CV['v_log_lik']\n",
    "v_log_lik[~np.isnan(v_log_lik)].mean()"
   ]
  },
  {
   "cell_type": "code",
   "execution_count": null,
   "metadata": {},
   "outputs": [],
   "source": [
    "# Train the model and generate samples\n",
    "fit_const_CV = sm_const.sampling(data=data_CV, iter=iteration, init=0)\n",
    "fit_const_CV['v_log_lik'].mean()"
   ]
  },
  {
   "cell_type": "code",
   "execution_count": null,
   "metadata": {},
   "outputs": [],
   "source": [
    "fit_1_CV"
   ]
  },
  {
   "cell_type": "code",
   "execution_count": null,
   "metadata": {},
   "outputs": [],
   "source": [
    "fit_const_CV"
   ]
  },
  {
   "cell_type": "code",
   "execution_count": null,
   "metadata": {},
   "outputs": [],
   "source": [
    "from scipy.stats import norm\n",
    "def poisson_approx_cum(m, rate):\n",
    "    c = pow(m/(1+rate), 1/3)\n",
    "    mu = 1- 1/(9*rate+9)\n",
    "    sigma = 1/(3*np.sqrt(1+rate))\n",
    "    return norm.logcdf(c-mu, sigma)\n"
   ]
  },
  {
   "cell_type": "code",
   "execution_count": 33,
   "metadata": {},
   "outputs": [],
   "source": [
    "def logdiff(x, y):\n",
    "    return x + np.log1p(-np.exp(-(x-y)));"
   ]
  },
  {
   "cell_type": "code",
   "execution_count": null,
   "metadata": {},
   "outputs": [],
   "source": [
    "def poisson_approx_pdf(m, rate):\n",
    "    return logdiff(poisson_approx_cum(m+1, rate), poisson_approx_cum(m, rate))"
   ]
  },
  {
   "cell_type": "code",
   "execution_count": null,
   "metadata": {},
   "outputs": [],
   "source": [
    "np.exp(poisson_approx_pdf(0, 1))"
   ]
  },
  {
   "cell_type": "code",
   "execution_count": 40,
   "metadata": {},
   "outputs": [
    {
     "data": {
      "text/plain": [
       "0.36787944117144233"
      ]
     },
     "execution_count": 40,
     "metadata": {},
     "output_type": "execute_result"
    }
   ],
   "source": [
    "from scipy.stats import poisson\n",
    "poisson.pmf(1, 1)"
   ]
  },
  {
   "cell_type": "code",
   "execution_count": null,
   "metadata": {},
   "outputs": [],
   "source": [
    "np.exp(logdiff(poisson_approx_cum(1+0.5, 1), poisson_approx_cum(0.5, 1)))"
   ]
  },
  {
   "cell_type": "code",
   "execution_count": 39,
   "metadata": {},
   "outputs": [
    {
     "data": {
      "text/plain": [
       "0.3829249225480263"
      ]
     },
     "execution_count": 39,
     "metadata": {},
     "output_type": "execute_result"
    }
   ],
   "source": [
    "from scipy.stats import norm\n",
    "np.exp(logdiff(norm.logcdf(1+0.5, 1), norm.logcdf(1-0.5, 1)))"
   ]
  },
  {
   "cell_type": "code",
   "execution_count": 36,
   "metadata": {},
   "outputs": [
    {
     "data": {
      "text/plain": [
       "2.0"
      ]
     },
     "execution_count": 36,
     "metadata": {},
     "output_type": "execute_result"
    }
   ],
   "source": []
  },
  {
   "cell_type": "code",
   "execution_count": null,
   "metadata": {},
   "outputs": [],
   "source": []
  }
 ],
 "metadata": {
  "kernelspec": {
   "display_name": "COVID-19",
   "language": "python",
   "name": "covid-19"
  },
  "language_info": {
   "codemirror_mode": {
    "name": "ipython",
    "version": 3
   },
   "file_extension": ".py",
   "mimetype": "text/x-python",
   "name": "python",
   "nbconvert_exporter": "python",
   "pygments_lexer": "ipython3",
   "version": "3.7.7"
  }
 },
 "nbformat": 4,
 "nbformat_minor": 4
}
