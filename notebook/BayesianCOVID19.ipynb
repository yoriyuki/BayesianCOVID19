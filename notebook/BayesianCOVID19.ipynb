{
 "cells": [
  {
   "cell_type": "code",
   "execution_count": null,
   "metadata": {},
   "outputs": [],
   "source": [
    "import pystan\n",
    "import scipy\n",
    "import matplotlib.pyplot as plt\n",
    "import seaborn as sns\n",
    "import numpy as np\n",
    "import pandas as pd\n",
    "import arviz as az"
   ]
  },
  {
   "cell_type": "code",
   "execution_count": null,
   "metadata": {},
   "outputs": [],
   "source": [
    "#### Preprocecing ###"
   ]
  },
  {
   "cell_type": "code",
   "execution_count": null,
   "metadata": {},
   "outputs": [],
   "source": [
    "jh_dir = \"../../COVID-19\""
   ]
  },
  {
   "cell_type": "code",
   "execution_count": null,
   "metadata": {},
   "outputs": [],
   "source": [
    "Confirmed = pd.read_csv(jh_dir + \"/csse_covid_19_data/csse_covid_19_time_series/time_series_covid19_confirmed_global.csv\")"
   ]
  },
  {
   "cell_type": "code",
   "execution_count": null,
   "metadata": {},
   "outputs": [],
   "source": [
    "df = Confirmed.groupby(\"Country/Region\").sum()\n",
    "df = df.drop([\"Lat\", \"Long\"], 1)\n",
    "df = df.T\n",
    "df = df.set_index(pd.to_datetime(df.index))\n",
    "confirmed = df\n",
    "confirmed = confirmed.cummax()"
   ]
  },
  {
   "cell_type": "code",
   "execution_count": null,
   "metadata": {},
   "outputs": [],
   "source": [
    "df = pd.read_csv(jh_dir + \"/csse_covid_19_data/csse_covid_19_time_series/time_series_covid19_recovered_global.csv\")\n",
    "df = df.groupby(\"Country/Region\").sum()\n",
    "df = df.drop([\"Lat\", \"Long\"], 1)\n",
    "df = df.T\n",
    "df = df.set_index(pd.to_datetime(df.index))\n",
    "recovered = df.cummax()"
   ]
  },
  {
   "cell_type": "code",
   "execution_count": null,
   "metadata": {},
   "outputs": [],
   "source": [
    "df = pd.read_csv(jh_dir + \"/csse_covid_19_data/csse_covid_19_time_series/time_series_covid19_deaths_global.csv\")\n",
    "df = df.groupby(\"Country/Region\").sum()\n",
    "df = df.drop([\"Lat\", \"Long\"], 1)\n",
    "df = df.T\n",
    "df = df.set_index(pd.to_datetime(df.index))\n",
    "death = df.cummax()"
   ]
  },
  {
   "cell_type": "code",
   "execution_count": null,
   "metadata": {},
   "outputs": [],
   "source": [
    "### Data Preparation ###"
   ]
  },
  {
   "cell_type": "code",
   "execution_count": null,
   "metadata": {},
   "outputs": [],
   "source": [
    "country = 'Japan'\n",
    "epoch = pd.to_datetime('2020-01-22')\n",
    "last = pd.to_datetime('2020-04-18')\n",
    "C0 = confirmed.loc[epoch:last, country].values\n",
    "R0 = (recovered).loc[epoch:last, country].values\n",
    "D0 = death.loc[epoch:last, country].values\n",
    "P = 12000_0000\n",
    "iteration=10_0000\n",
    "repeat = 1000"
   ]
  },
  {
   "cell_type": "code",
   "execution_count": null,
   "metadata": {},
   "outputs": [],
   "source": [
    "data = {'T': C0.shape[0], 'T0': C0.shape[0], 'P': P, 'C0': C0, 'R0': R0, 'D0':D0}"
   ]
  },
  {
   "cell_type": "code",
   "execution_count": null,
   "metadata": {},
   "outputs": [],
   "source": [
    "### Model ###"
   ]
  },
  {
   "cell_type": "code",
   "execution_count": null,
   "metadata": {
    "scrolled": true
   },
   "outputs": [],
   "source": [
    "sm_1 = pystan.StanModel(file=\"single-step.stan\")"
   ]
  },
  {
   "cell_type": "code",
   "execution_count": null,
   "metadata": {},
   "outputs": [],
   "source": [
    "sm_2 = pystan.StanModel(file=\"2-steps.stan\")"
   ]
  },
  {
   "cell_type": "code",
   "execution_count": null,
   "metadata": {},
   "outputs": [],
   "source": [
    "sm_const = pystan.StanModel(file=\"const.stan\")"
   ]
  },
  {
   "cell_type": "code",
   "execution_count": null,
   "metadata": {
    "scrolled": true
   },
   "outputs": [],
   "source": [
    "# Train the model and generate samples\n",
    "fit_const = sm_const.sampling(data=data, iter=iteration, init='random')\n",
    "fit_const"
   ]
  },
  {
   "cell_type": "code",
   "execution_count": null,
   "metadata": {
    "scrolled": true
   },
   "outputs": [],
   "source": [
    "# Train the model and generate samples\n",
    "fit_start_1 = sm_1.sampling(data=data, iter=iteration, init='random')\n",
    "fit_start_1"
   ]
  },
  {
   "cell_type": "code",
   "execution_count": null,
   "metadata": {
    "scrolled": true
   },
   "outputs": [],
   "source": [
    "# Train the model and generate samples\n",
    "fit_start_2 = sm_2.sampling(data=data, iter=iteration, init='random')\n",
    "fit_start_2"
   ]
  },
  {
   "cell_type": "code",
   "execution_count": null,
   "metadata": {},
   "outputs": [],
   "source": [
    "### Convergence"
   ]
  },
  {
   "cell_type": "code",
   "execution_count": null,
   "metadata": {},
   "outputs": [],
   "source": [
    "data_const = az.from_pystan(fit_const, log_likelihood='log_lik')\n",
    "data_1 = az.from_pystan(fit_start_1, log_likelihood='log_lik')\n",
    "data_2 = az.from_pystan(fit_start_2, log_likelihood='log_lik')"
   ]
  },
  {
   "cell_type": "code",
   "execution_count": null,
   "metadata": {},
   "outputs": [],
   "source": [
    "az.plot_trace(data_const, var_names=['init_inf', 'b', 'a', 'd', 'q'])"
   ]
  },
  {
   "cell_type": "code",
   "execution_count": null,
   "metadata": {},
   "outputs": [],
   "source": [
    "az.plot_trace(data_1, var_names=['init_inf', 'b0', 'b1', 'b_date', 'theta_b', 'q0', 'q1', 'q_date', 'theta_q', 'a', 'd'])"
   ]
  },
  {
   "cell_type": "code",
   "execution_count": null,
   "metadata": {},
   "outputs": [],
   "source": [
    "az.plot_trace(data_2, var_names=['init_inf', 'b0', 'b1', 'b2', 'b_date', 'b2_date', 'theta_b', 'theta_b2', \n",
    "                                 'q0', 'q1', 'q2', 'q_date', 'q2_date', 'theta_q', 'theta_q2', 'a', 'd'])"
   ]
  },
  {
   "cell_type": "code",
   "execution_count": null,
   "metadata": {},
   "outputs": [],
   "source": [
    "### model selection"
   ]
  },
  {
   "cell_type": "code",
   "execution_count": null,
   "metadata": {
    "scrolled": true
   },
   "outputs": [],
   "source": [
    "loo_const = az.loo(data_const, pointwise=True)\n",
    "loo_const"
   ]
  },
  {
   "cell_type": "code",
   "execution_count": null,
   "metadata": {
    "scrolled": true
   },
   "outputs": [],
   "source": [
    "loo_const.loc['pareto_k']"
   ]
  },
  {
   "cell_type": "code",
   "execution_count": null,
   "metadata": {},
   "outputs": [],
   "source": [
    "loo_const.loc['loo_i']"
   ]
  },
  {
   "cell_type": "code",
   "execution_count": null,
   "metadata": {
    "scrolled": false
   },
   "outputs": [],
   "source": [
    "loo_1 = az.loo(data_1, pointwise=True)\n",
    "loo_1"
   ]
  },
  {
   "cell_type": "code",
   "execution_count": null,
   "metadata": {
    "scrolled": true
   },
   "outputs": [],
   "source": [
    "loo_1['pareto_k'][55:]"
   ]
  },
  {
   "cell_type": "code",
   "execution_count": null,
   "metadata": {
    "scrolled": true
   },
   "outputs": [],
   "source": [
    "loo_1['loo_i']"
   ]
  },
  {
   "cell_type": "code",
   "execution_count": null,
   "metadata": {},
   "outputs": [],
   "source": [
    "loo_i = pd.DataFrame({'const':loo_const['loo_i'], '1-step':loo_1['loo_i']})\n",
    "sns.relplot(data=loo_i)"
   ]
  },
  {
   "cell_type": "code",
   "execution_count": null,
   "metadata": {},
   "outputs": [],
   "source": [
    "pareto_k = pd.DataFrame({'const':loo_const['pareto_k'], '1-step':loo_1['pareto_k']})\n",
    "sns.relplot(data=pareto_k)"
   ]
  },
  {
   "cell_type": "code",
   "execution_count": null,
   "metadata": {
    "scrolled": true
   },
   "outputs": [],
   "source": [
    "az.compare({'const':data_const, '1-step':data_1})"
   ]
  },
  {
   "cell_type": "code",
   "execution_count": null,
   "metadata": {},
   "outputs": [],
   "source": [
    "data_CV = {'T': C0.shape[0], 'T0': 55, 'P': P, 'C0': C0, 'R0': R0, 'D0':D0}"
   ]
  },
  {
   "cell_type": "code",
   "execution_count": null,
   "metadata": {},
   "outputs": [],
   "source": [
    "# Train the model and generate samples\n",
    "fit_1_CV = sm_1.sampling(data=data_CV, iter=iteration, init='random')\n",
    "fit_1_CV"
   ]
  },
  {
   "cell_type": "code",
   "execution_count": null,
   "metadata": {},
   "outputs": [],
   "source": [
    "# Train the model and generate samples\n",
    "fit_const_CV = sm_const.sampling(data=data_CV, iter=iteration, init='random')\n",
    "fit_const_CV"
   ]
  },
  {
   "cell_type": "code",
   "execution_count": null,
   "metadata": {},
   "outputs": [],
   "source": [
    "fit_1_CV['v_log_lik'].mean()"
   ]
  },
  {
   "cell_type": "code",
   "execution_count": null,
   "metadata": {},
   "outputs": [],
   "source": [
    "fit_const_CV['v_log_lik'].mean()"
   ]
  },
  {
   "cell_type": "code",
   "execution_count": null,
   "metadata": {},
   "outputs": [],
   "source": [
    "data_CV_const = az.from_pystan(fit_const_CV, log_likelihood='log_lik')\n",
    "data_CV_1 = az.from_pystan(fit_1_CV, log_likelihood='log_lik')"
   ]
  },
  {
   "cell_type": "code",
   "execution_count": null,
   "metadata": {},
   "outputs": [],
   "source": [
    "az.compare({'const':data_CV_const, '1-step':data_CV_1})"
   ]
  },
  {
   "cell_type": "code",
   "execution_count": null,
   "metadata": {},
   "outputs": [],
   "source": [
    "### Visualization ###"
   ]
  },
  {
   "cell_type": "code",
   "execution_count": null,
   "metadata": {},
   "outputs": [],
   "source": [
    "def sigmoid(x, theta, t0):\n",
    "    return 1/(1 + np.exp(-theta*(x-t0)))"
   ]
  },
  {
   "cell_type": "code",
   "execution_count": null,
   "metadata": {},
   "outputs": [],
   "source": [
    "def simulate(init_inf, b0, b1, theta_b, b_date, q0, q1, theta_q, q_date,\n",
    "             a, d, horizon):\n",
    "    S = init_inf;\n",
    "    R = 0;\n",
    "    D = 0;\n",
    "    S_list = [S]\n",
    "    R_list = [R]\n",
    "    D_list = [D]\n",
    "    b_list = [b0]\n",
    "    q_list = [0]\n",
    "    q = q0 + (q1 - q0) * sigmoid(0, theta_q, q_date)\n",
    "    S0 = [scipy.stats.poisson.rvs(q*init_inf)]\n",
    "    R0 = [scipy.stats.poisson.rvs(a * S0[0])]\n",
    "    D0 = [scipy.stats.poisson.rvs(d * S0[0])]\n",
    "    for t in range(horizon):\n",
    "        b = b0 + (b1-b0) * sigmoid(t, theta_b, b_date)\n",
    "        I = (S - R - D) * b * (1 - S/P)\n",
    "        q = q0 + (q1 - q0) * sigmoid(t, theta_q, q_date)\n",
    "        NR = a * (S - R - D)\n",
    "        ND = d * (S - R - D)\n",
    "        D = D + ND\n",
    "        S = S + I\n",
    "        R = R + NR\n",
    "        S_list.append(S)\n",
    "        R_list.append(R)\n",
    "        D_list.append(D)\n",
    "        b_list.append(b)\n",
    "        q_list.append(q)\n",
    "        NI0 = scipy.stats.poisson.rvs(q*I)\n",
    "        NR0 = scipy.stats.poisson.rvs(a * (S0[-1] - R0[-1] - D0[-1]))\n",
    "        ND0 = scipy.stats.poisson.rvs(d * (S0[-1] - R0[-1] - D0[-1]))\n",
    "        S0.append(S0[-1]+NI0)\n",
    "        R0.append(R0[-1]+NR0)\n",
    "        D0.append(D0[-1]+ND0)\n",
    "    data = pd.DataFrame({'S':np.array(S_list),\n",
    "                        'R':np.array(R_list),\n",
    "                        'D':np.array(D_list),\n",
    "                        'b':np.array(b_list),\n",
    "                        'q':np.array(q_list),\n",
    "                        'S0':np.array(S0),\n",
    "                        'R0':np.array(R0),\n",
    "                        'D0':np.array(D0)},\n",
    "                        index=pd.date_range(start=epoch, periods=horizon+1, freq='D'))\n",
    "    return data"
   ]
  },
  {
   "cell_type": "code",
   "execution_count": null,
   "metadata": {},
   "outputs": [],
   "source": [
    "def monte_carlo(fit, horizon):\n",
    "    S = pd.DataFrame()\n",
    "    R = pd.DataFrame()\n",
    "    D = pd.DataFrame()\n",
    "    b = pd.DataFrame()\n",
    "    q = pd.DataFrame()\n",
    "    S0 = pd.DataFrame()\n",
    "    R0 = pd.DataFrame()\n",
    "    I0 = pd.DataFrame()\n",
    "    D0 = pd.DataFrame()\n",
    "    n = fit['init_inf'].shape[0]\n",
    "    for k in range(repeat):\n",
    "        i = np.random.randint(n)\n",
    "        try:\n",
    "            q0 = fit['q0'][i]\n",
    "        except:\n",
    "            q0 = 0\n",
    "        \n",
    "        df = simulate(init_inf=fit['init_inf'][i],\n",
    "                      b0=fit['b0'][i],\n",
    "                      b1=fit['b1'][i],\n",
    "                      theta_b=fit['theta_b'][i],\n",
    "                      b_date=fit['b_date'][i],\n",
    "                      q0=q0,\n",
    "                      q1=fit['q1'][i],\n",
    "                      theta_q=fit['theta_q'][i],\n",
    "                      q_date=fit['q_date'][i],\n",
    "                      a=fit['a'][i],\n",
    "                      d=fit['d'][i],\n",
    "                      horizon=horizon)\n",
    "        S = pd.concat([S, df['S']], axis=1)\n",
    "        R = pd.concat([R, df['R']], axis=1)\n",
    "        D = pd.concat([D, df['D']], axis=1)\n",
    "        b = pd.concat([b, df['b']], axis=1)\n",
    "        q = pd.concat([q, df['q']], axis=1)\n",
    "        S0 = pd.concat([S0, df['S0']], axis=1)\n",
    "        R0 = pd.concat([R0, df['R0']], axis=1)\n",
    "        D0 = pd.concat([D0, df['D0']], axis=1)\n",
    "        I0 = pd.concat([I0, df['S0'] - df['R0']], axis=1)\n",
    "    return S, R, D, b, q, S0, R0, I0, D0\n",
    "    "
   ]
  },
  {
   "cell_type": "code",
   "execution_count": null,
   "metadata": {},
   "outputs": [],
   "source": [
    "def extract_series(fit, name):\n",
    "    value_list = []\n",
    "    for d in range(S0.shape[0]):\n",
    "        vals = fit['{}[{}]'.format(name, d+1)]\n",
    "        value_list.append(vals)\n",
    "    data = np.array(value_list)\n",
    "    return pd.DataFrame(data, \n",
    "                        index=confirmed.index)"
   ]
  },
  {
   "cell_type": "code",
   "execution_count": null,
   "metadata": {},
   "outputs": [],
   "source": [
    "def draw(simulated, real=None, upto=pd.to_datetime('2020-04-18')):\n",
    "    graph=pd.DataFrame(index=pd.date_range(start=epoch, end=upto))\n",
    "    simulated = simulated.dropna(axis=1)\n",
    "    median = simulated.median(axis=1)\n",
    "    upper = simulated.quantile(q=0.75, axis=1)\n",
    "    lower = simulated.quantile(q=0.25, axis=1)\n",
    "    if not real is None:\n",
    "        graph['Real'] = real\n",
    "    graph['Median'] = median\n",
    "    graph['Upper'] = upper\n",
    "    graph['Lower'] = lower\n",
    "    sns.relplot(kind=\"line\", data=graph, aspect=2)"
   ]
  },
  {
   "cell_type": "code",
   "execution_count": null,
   "metadata": {},
   "outputs": [],
   "source": [
    "S, R, D, b, q, S0, R0, I0, D0 = monte_carlo(fit_start_1, 120)"
   ]
  },
  {
   "cell_type": "code",
   "execution_count": null,
   "metadata": {},
   "outputs": [],
   "source": [
    "draw(I0, real=(confirmed-recovered)[country])"
   ]
  },
  {
   "cell_type": "code",
   "execution_count": null,
   "metadata": {},
   "outputs": [],
   "source": [
    "S.median(axis=1)[pd.to_datetime('2020-04-18')]"
   ]
  },
  {
   "cell_type": "code",
   "execution_count": null,
   "metadata": {},
   "outputs": [],
   "source": [
    "draw(q)"
   ]
  },
  {
   "cell_type": "code",
   "execution_count": null,
   "metadata": {},
   "outputs": [],
   "source": [
    "draw(b)"
   ]
  },
  {
   "cell_type": "code",
   "execution_count": null,
   "metadata": {},
   "outputs": [],
   "source": [
    "draw(R0, real=recovered[country])"
   ]
  },
  {
   "cell_type": "code",
   "execution_count": null,
   "metadata": {
    "scrolled": true
   },
   "outputs": [],
   "source": [
    "draw(D0, real=death[country])"
   ]
  },
  {
   "cell_type": "code",
   "execution_count": null,
   "metadata": {
    "scrolled": true
   },
   "outputs": [],
   "source": [
    "draw(S, upto=pd.to_datetime('2020-05-30'))"
   ]
  },
  {
   "cell_type": "code",
   "execution_count": null,
   "metadata": {
    "scrolled": true
   },
   "outputs": [],
   "source": [
    "draw(D, upto=pd.to_datetime('2020-05-30'))"
   ]
  },
  {
   "cell_type": "code",
   "execution_count": null,
   "metadata": {},
   "outputs": [],
   "source": [
    "S.loc[pd.to_datetime('2020-05-30')]"
   ]
  },
  {
   "cell_type": "code",
   "execution_count": null,
   "metadata": {},
   "outputs": [],
   "source": [
    "## Saving results"
   ]
  },
  {
   "cell_type": "code",
   "execution_count": null,
   "metadata": {},
   "outputs": [],
   "source": [
    "import pickle\n",
    "with open(\"sm1_fit.pkl\", \"wb\") as f:\n",
    "    pickle.dump({'model' : sm_1, 'fit' : fit_start_1}, f, protocol=-1)\n",
    "    # or with a list\n",
    "    # pickle.dump([model, fit], f, protocol=-1)"
   ]
  },
  {
   "cell_type": "code",
   "execution_count": null,
   "metadata": {},
   "outputs": [],
   "source": [
    "import pickle\n",
    "with open(\"sm2_fit.pkl\", \"wb\") as f:\n",
    "    pickle.dump({'model' : sm_2, 'fit' : fit_start_2}, f, protocol=-1)\n",
    "    # or with a list\n",
    "    # pickle.dump([model, fit], f, protocol=-1)"
   ]
  },
  {
   "cell_type": "code",
   "execution_count": null,
   "metadata": {},
   "outputs": [],
   "source": [
    "import pickle\n",
    "with open(\"sm_const_fit.pkl\", \"wb\") as f:\n",
    "    pickle.dump({'model' : sm_const, 'fit' : fit_const}, f, protocol=-1)\n",
    "    # or with a list\n",
    "    # pickle.dump([model, fit], f, protocol=-1)"
   ]
  },
  {
   "cell_type": "code",
   "execution_count": null,
   "metadata": {},
   "outputs": [],
   "source": [
    "## Validation by simulation"
   ]
  },
  {
   "cell_type": "code",
   "execution_count": null,
   "metadata": {},
   "outputs": [],
   "source": [
    "i = 1\n",
    "fit = fit_start_1\n",
    "horizon=(pd.to_datetime('2020-04-18') - pd.to_datetime('2020-02-01')).days\n",
    "df = simulate(init_inf=fit['init_inf'][i],\n",
    "                      b0=fit['b0'][i],\n",
    "                      b1=fit['b1'][i],\n",
    "                      theta_b=fit['theta_b'][i],\n",
    "                      b_date=fit['b_date'][i],\n",
    "                      q0=fit['q0'][i],\n",
    "                      q1=fit['q1'][i],\n",
    "                      theta_q=fit['theta_q'][i],\n",
    "                      q_date=fit['q_date'][i],\n",
    "                      a=fit['a'][i],\n",
    "                      d=fit['d'][i],\n",
    "                      horizon=horizon)\n",
    "df['S0']"
   ]
  },
  {
   "cell_type": "code",
   "execution_count": null,
   "metadata": {},
   "outputs": [],
   "source": [
    "C0 = df['S0'].values\n",
    "R0 = df['R0'].values\n",
    "D0 = df['D0'].values\n",
    "data_simulated = {'T': C0.shape[0], 'P': P, 'C0': C0, 'R0': R0, 'D0':D0}"
   ]
  },
  {
   "cell_type": "code",
   "execution_count": null,
   "metadata": {},
   "outputs": [],
   "source": [
    "# Train the model and generate samples\n",
    "fit_simulated = sm_1.sampling(data=data_simulated, iter=iteration, init=0)\n",
    "fit_simulated"
   ]
  },
  {
   "cell_type": "code",
   "execution_count": null,
   "metadata": {},
   "outputs": [],
   "source": [
    "(fit_start_1['init_inf'][i], fit_start_1['b0'][i], fit_start_1['b1'][i], fit_start_1['theta_b'][i], \n",
    "fit_start_1['b_date'][i], fit_start_1['q0'][i], fit_start_1['q1'][i], fit_start_1['theta_q'][i], fit_start_1['q_date'][7]\n",
    ",fit_start_1['a'][i], fit_start_1['d'][i])"
   ]
  },
  {
   "cell_type": "code",
   "execution_count": null,
   "metadata": {},
   "outputs": [],
   "source": []
  }
 ],
 "metadata": {
  "kernelspec": {
   "display_name": "COVID-19",
   "language": "python",
   "name": "covid-19"
  },
  "language_info": {
   "codemirror_mode": {
    "name": "ipython",
    "version": 3
   },
   "file_extension": ".py",
   "mimetype": "text/x-python",
   "name": "python",
   "nbconvert_exporter": "python",
   "pygments_lexer": "ipython3",
   "version": "3.7.6"
  }
 },
 "nbformat": 4,
 "nbformat_minor": 4
}
